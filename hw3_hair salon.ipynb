{
 "cells": [
  {
   "cell_type": "code",
   "execution_count": 2,
   "id": "37379442",
   "metadata": {},
   "outputs": [],
   "source": [
    "hairstyles = [\"bouffant\", \"pixie\", \"dreadlocks\", \"crew\", \"bowl\", \"bob\", \"mohawk\", \"flattop\"]\n",
    "prices = [30, 25, 40, 20, 20, 35, 50, 35]\n",
    "last_week = [2, 3, 5, 8, 4, 4, 6, 2]"
   ]
  },
  {
   "cell_type": "code",
   "execution_count": 36,
   "id": "78b72c48",
   "metadata": {
    "scrolled": true
   },
   "outputs": [
    {
     "name": "stdout",
     "output_type": "stream",
     "text": [
      "Average_price is 31.875\n"
     ]
    }
   ],
   "source": [
    "total_price =0\n",
    "for i in prices :\n",
    "    total_price += i\n",
    "\n",
    "average_price = total_price / len(prices)\n",
    "print(\"Average_price is {}\".format(average_price))\n"
   ]
  },
  {
   "cell_type": "code",
   "execution_count": 25,
   "id": "56fdc4db",
   "metadata": {},
   "outputs": [
    {
     "name": "stdout",
     "output_type": "stream",
     "text": [
      "[25, 20, 35, 15, 15, 30, 45, 30]\n"
     ]
    }
   ],
   "source": [
    "new_prices = [price -5 for price in prices]\n",
    "print(new_prices)"
   ]
  },
  {
   "cell_type": "code",
   "execution_count": 37,
   "id": "595c6c31",
   "metadata": {},
   "outputs": [
    {
     "name": "stdout",
     "output_type": "stream",
     "text": [
      "Average daily revenue is 155.0\n"
     ]
    }
   ],
   "source": [
    "total_revenue = 0\n",
    "for i in range(len(hairstyles)):\n",
    "    total_revenue += prices[i] * last_week[i]\n",
    "average_daily_revenue = total_revenue / 7\n",
    "print(\"Average daily revenue is {}\".format(average_daily_revenue))"
   ]
  },
  {
   "cell_type": "code",
   "execution_count": null,
   "id": "a20ae0df",
   "metadata": {},
   "outputs": [],
   "source": [
    "cut_under_30 = [hairstyles[price] for price in range(new_prices))]"
   ]
  }
 ],
 "metadata": {
  "kernelspec": {
   "display_name": "Python 3",
   "language": "python",
   "name": "python3"
  },
  "language_info": {
   "codemirror_mode": {
    "name": "ipython",
    "version": 3
   },
   "file_extension": ".py",
   "mimetype": "text/x-python",
   "name": "python",
   "nbconvert_exporter": "python",
   "pygments_lexer": "ipython3",
   "version": "3.8.8"
  }
 },
 "nbformat": 4,
 "nbformat_minor": 5
}
